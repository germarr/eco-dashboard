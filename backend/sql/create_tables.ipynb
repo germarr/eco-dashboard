{
 "cells": [
  {
   "cell_type": "code",
   "execution_count": 1,
   "source": [
    "import pandas as pd\r\n",
    "import numpy as np\r\n",
    "import psycopg2\r\n",
    "import psycopg2.extras"
   ],
   "outputs": [],
   "metadata": {}
  },
  {
   "cell_type": "code",
   "execution_count": 4,
   "source": [
    "dconector=\"host=173.255.226.165 port=5432 dbname=apidata user=gmarr password=password\"\r\n",
    "nameOfTheFile=\"viajes_por_mes\"\r\n",
    "\r\n",
    "def new_table(name_of_table, dbConnection):\r\n",
    "    conn=psycopg2.connect(dbConnection)\r\n",
    "    cur = conn.cursor()\r\n",
    "    cur.execute(f\"\"\"\r\n",
    "        CREATE TABLE {name_of_table}(\r\n",
    "            index NUMERIC PRIMARY KEY,\r\n",
    "            Mes NUMERIC,\r\n",
    "            Semana NUMERIC,\r\n",
    "            Dia NUMERIC,\r\n",
    "            Hora float(8),\r\n",
    "            num_de_viajes NUMERIC\r\n",
    "        )\r\n",
    "    \"\"\")\r\n",
    "    conn.commit()\r\n",
    "    print(\"Table Created!\")"
   ],
   "outputs": [],
   "metadata": {}
  },
  {
   "cell_type": "code",
   "execution_count": 10,
   "source": [
    "def new_tableI(name_of_table, dbConnection):\r\n",
    "    conn=psycopg2.connect(dbConnection)\r\n",
    "    cur = conn.cursor()\r\n",
    "    cur.execute(f\"\"\"\r\n",
    "        CREATE TABLE {name_of_table}(\r\n",
    "            index NUMERIC PRIMARY KEY,\r\n",
    "            Mes NUMERIC,\r\n",
    "            Dia NUMERIC,\r\n",
    "            viaje TEXT,\r\n",
    "            name_retiro TEXT,\r\n",
    "            name_arribo TEXT,\r\n",
    "            num_de_viajes NUMERIC\r\n",
    "        ) \r\n",
    "    \"\"\")\r\n",
    "    conn.commit()\r\n",
    "    print(\"Table Created!\")\r\n",
    "\r\n",
    "new_tableI(name_of_table= \"top_estaciones\", dbConnection = dconector)"
   ],
   "outputs": [
    {
     "output_type": "stream",
     "name": "stdout",
     "text": [
      "Table Created!\n"
     ]
    }
   ],
   "metadata": {}
  },
  {
   "cell_type": "code",
   "execution_count": 6,
   "source": [
    "def push_data_to_table(name_of_table, dbConnection):\r\n",
    "    conn=psycopg2.connect(dbConnection)\r\n",
    "    cur = conn.cursor()\r\n",
    "    with open(f\"./top_viajes.csv\", \"r\", encoding=\"utf8\") as f:\r\n",
    "        next(f) #Skip the header\r\n",
    "        cur.copy_from(f, name_of_table, sep=\",\")\r\n",
    "    \r\n",
    "    conn.commit()\r\n",
    "\r\n",
    "push_data_to_table(nameOfTheFile, dconector)"
   ],
   "outputs": [],
   "metadata": {}
  },
  {
   "cell_type": "code",
   "execution_count": 13,
   "source": [
    "def push_data_to_tableI(name_of_table, dbConnection):\r\n",
    "    conn=psycopg2.connect(dbConnection)\r\n",
    "    cur = conn.cursor()\r\n",
    "    with open(f\"./top_estaciones.csv\", \"r\", encoding=\"utf8\") as f:\r\n",
    "        next(f) #Skip the header\r\n",
    "        cur.copy_from(f, name_of_table, sep=\",\")\r\n",
    "    \r\n",
    "    conn.commit()\r\n",
    "\r\n",
    "push_data_to_tableI(name_of_table=\"top_viajes\", dbConnection = dconector)"
   ],
   "outputs": [],
   "metadata": {}
  }
 ],
 "metadata": {
  "orig_nbformat": 4,
  "language_info": {
   "name": "python",
   "version": "3.9.4",
   "mimetype": "text/x-python",
   "codemirror_mode": {
    "name": "ipython",
    "version": 3
   },
   "pygments_lexer": "ipython3",
   "nbconvert_exporter": "python",
   "file_extension": ".py"
  },
  "kernelspec": {
   "name": "python3",
   "display_name": "Python 3.9.4 64-bit ('env': venv)"
  },
  "interpreter": {
   "hash": "d6fbbdbb477c5aae128c23de5ce1f19d6c7d2819263629f9c57efd0e8c55891a"
  }
 },
 "nbformat": 4,
 "nbformat_minor": 2
}